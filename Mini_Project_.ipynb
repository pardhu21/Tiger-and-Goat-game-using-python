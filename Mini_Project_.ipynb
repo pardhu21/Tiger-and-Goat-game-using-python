{
  "cells": [
    {
      "cell_type": "code",
      "execution_count": 24,
      "metadata": {
        "colab": {
          "base_uri": "https://localhost:8080/"
        },
        "id": "IeTejUVu6CJE",
        "outputId": "90097b25-7997-42a2-982b-5612bb0588b4"
      },
      "outputs": [
        {
          "output_type": "stream",
          "name": "stdout",
          "text": [
            "\t\t    1\t\n",
            "\n",
            "\n",
            "2\t3\t4\t5\t6\t7\n",
            "\n",
            "\n",
            "8\t9\t10\t11\t12\t13\n",
            "\n",
            "\n",
            "14\t15\t16\t17\t18\t19\n",
            "\n",
            "\n",
            "\t20\t21\t22\t23\n"
          ]
        }
      ],
      "source": [
        "class Tiger_And_Goat:\n",
        "    DEFAULT = [[1],[2,3,4,5,6,7],[8,9,10,11,12,13],[14,15,16,17,18,19],[20,21,22,23]]\n",
        "    GOATS = ['g1', 'g2', 'g3', 'g4', 'g5', 'g6', 'g7', 'g8', 'g9', 'g10', 'g11', 'g12', 'g13', 'g14', 'g15']\n",
        "    TIGERS = ['t1', 't2', 't3']\n",
        "    def __init__(self):\n",
        "        self.board_matrix = [[1],[2,3,4,5,6,7],[8,9,10,11,12,13],[14,15,16,17,18,19],[20,21,22,23]]\n",
        "        self.dead_goats = []\n",
        "        self.print_board()\n",
        "\n",
        "    def __repr__():\n",
        "        pass\n",
        "\n",
        "    def __str__():\n",
        "        pass\n",
        " \n",
        "    def print_board(self):\n",
        "        print  (f'''\t\t    {self.board_matrix[0][0]}\t\n",
        "\n",
        "\n",
        "{self.board_matrix[1][0]}\t{self.board_matrix[1][1]}\t{self.board_matrix[1][2]}\t{self.board_matrix[1][3]}\t{self.board_matrix[1][4]}\t{self.board_matrix[1][5]}\n",
        "\n",
        "\n",
        "{self.board_matrix[2][0]}\t{self.board_matrix[2][1]}\t{self.board_matrix[2][2]}\t{self.board_matrix[2][3]}\t{self.board_matrix[2][4]}\t{self.board_matrix[2][5]}\n",
        "\n",
        "\n",
        "{self.board_matrix[3][0]}\t{self.board_matrix[3][1]}\t{self.board_matrix[3][2]}\t{self.board_matrix[3][3]}\t{self.board_matrix[3][4]}\t{self.board_matrix[3][5]}\n",
        "\n",
        "\n",
        "\t{self.board_matrix[4][0]}\t{self.board_matrix[4][1]}\t{self.board_matrix[4][2]}\t{self.board_matrix[4][3]}''')\n",
        "        \n",
        "\n",
        "    def goat_placed(self):\n",
        "        pass\n",
        "\n",
        "\n",
        "    def tiger_move(self):\n",
        "        pass\n",
        "\n",
        "\n",
        "\n",
        "    def goat_move(self):\n",
        "        pass\n",
        "\n",
        "\n",
        "    def tiger_possible_position(self):\n",
        "        pass\n",
        "\n",
        "\n",
        "    def goat_possible_position(self):\n",
        "        pass\n",
        "\n",
        "\n",
        "    def neighbours(self):\n",
        "        pass\n",
        "\n",
        "\n",
        "    def tiger_jump(self):\n",
        "        pass\n",
        "\n",
        "\n",
        "    def end_game(self):\n",
        "        pass\n",
        "\n",
        "game = Tiger_And_Goat()"
      ]
    },
    {
      "cell_type": "code",
      "source": [],
      "metadata": {
        "id": "QpOtCqJTy-65"
      },
      "execution_count": null,
      "outputs": []
    }
  ],
  "metadata": {
    "colab": {
      "collapsed_sections": [],
      "provenance": []
    },
    "kernelspec": {
      "display_name": "Python 3",
      "name": "python3"
    },
    "language_info": {
      "name": "python"
    }
  },
  "nbformat": 4,
  "nbformat_minor": 0
}